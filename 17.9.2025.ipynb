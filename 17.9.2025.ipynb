{
 "cells": [
  {
   "cell_type": "code",
   "execution_count": 3,
   "id": "4566535d-5dea-4457-b3e9-9c0f6b0b4e55",
   "metadata": {},
   "outputs": [
    {
     "name": "stdout",
     "output_type": "stream",
     "text": [
      "Hello,Python Full Stack Students!\n"
     ]
    }
   ],
   "source": [
    "print(\"Hello,Python Full Stack Students!\")"
   ]
  },
  {
   "cell_type": "code",
   "execution_count": 4,
   "id": "c6c34e99-8be3-4355-9515-2965b0ec6652",
   "metadata": {},
   "outputs": [
    {
     "name": "stdout",
     "output_type": "stream",
     "text": [
      "Hello,I am Tahseen!\n"
     ]
    }
   ],
   "source": [
    "print(\"Hello,I am Tahseen!\")"
   ]
  },
  {
   "cell_type": "code",
   "execution_count": 5,
   "id": "8720e47c-dcec-40dd-a832-3d149a352329",
   "metadata": {},
   "outputs": [
    {
     "name": "stdout",
     "output_type": "stream",
     "text": [
      "How are you!\n"
     ]
    }
   ],
   "source": [
    "print(\"How are you!\")"
   ]
  },
  {
   "cell_type": "code",
   "execution_count": 6,
   "id": "d9b63a5b-7b62-4021-a50b-f3ce813f5d2d",
   "metadata": {},
   "outputs": [
    {
     "name": "stdout",
     "output_type": "stream",
     "text": [
      "name=TAHSEEN\n",
      "age=17\n",
      "gpa=8.5\n",
      "is student=True\n"
     ]
    }
   ],
   "source": [
    "print(\"name=TAHSEEN\")\n",
    "print(\"age=17\")\n",
    "print(\"gpa=8.5\")\n",
    "print(\"is student=True\")"
   ]
  },
  {
   "cell_type": "code",
   "execution_count": 7,
   "id": "aa2f6d8d-0ce0-4465-8fc8-7b008a10c927",
   "metadata": {},
   "outputs": [
    {
     "name": "stdout",
     "output_type": "stream",
     "text": [
      "name=safiya\n",
      "age=16\n",
      "gpa=8.9\n",
      "is student=True\n"
     ]
    }
   ],
   "source": [
    "print(\"name=safiya\")\n",
    "print(\"age=16\")\n",
    "print(\"gpa=8.9\")\n",
    "print(\"is student=True\")"
   ]
  },
  {
   "cell_type": "code",
   "execution_count": 11,
   "id": "2b4d0690-5835-432a-92f9-a798c3282c44",
   "metadata": {},
   "outputs": [
    {
     "name": "stdout",
     "output_type": "stream",
     "text": [
      "<class 'int'> <class 'float'> <class 'str'> <class 'bool'>\n"
     ]
    }
   ],
   "source": [
    "x=10\n",
    "y=3.14\n",
    "z=\"Python\"\n",
    "flag=False\n",
    "print(type(x),type(y),type(z),type(flag))\n"
   ]
  },
  {
   "cell_type": "code",
   "execution_count": 14,
   "id": "28a0013d-661d-4232-8feb-006d5dd39299",
   "metadata": {},
   "outputs": [
    {
     "name": "stdout",
     "output_type": "stream",
     "text": [
      "name=Tahseen\n",
      "college=Avinash college of commerce\n",
      "favourite programing language=python\n"
     ]
    }
   ],
   "source": [
    "print(\"name=Tahseen\")\n",
    "print(\"college=Avinash college of commerce\")\n",
    "print(\"favourite programing language=python\")"
   ]
  },
  {
   "cell_type": "code",
   "execution_count": 16,
   "id": "ca4e5460-6f12-48d5-af9b-0be79da96e9d",
   "metadata": {},
   "outputs": [
    {
     "name": "stdout",
     "output_type": "stream",
     "text": [
      "17\n"
     ]
    }
   ],
   "source": [
    "birth_year=2008\n",
    "current_year=2025\n",
    "print(current_year-birth_year)"
   ]
  },
  {
   "cell_type": "code",
   "execution_count": 19,
   "id": "8d4d05ec-5a40-4f62-8f7a-255bd74ce658",
   "metadata": {},
   "outputs": [
    {
     "name": "stdout",
     "output_type": "stream",
     "text": [
      "KGF 2018 8.5\n"
     ]
    }
   ],
   "source": [
    "movie_name=\"KGF\"\n",
    "release_year=2018\n",
    "rating=8.5\n",
    "print(movie_name,release_year,rating)"
   ]
  },
  {
   "cell_type": "code",
   "execution_count": 21,
   "id": "22996f64-8e5b-4336-bed2-d0c02ac9f153",
   "metadata": {},
   "outputs": [
    {
     "name": "stdout",
     "output_type": "stream",
     "text": [
      "Addition: 19\n",
      "Division: 3.75\n",
      "Floor Division: 3\n",
      "power: 50625\n"
     ]
    }
   ],
   "source": [
    "print(\"Addition:\",15+4)\n",
    "print(\"Division:\",15/4)\n",
    "print(\"Floor Division:\",15//4)\n",
    "print(\"power:\",15**4)"
   ]
  },
  {
   "cell_type": "code",
   "execution_count": 23,
   "id": "6020ac19-6b51-4361-ae63-2b2d1ac3eb8d",
   "metadata": {},
   "outputs": [
    {
     "name": "stdout",
     "output_type": "stream",
     "text": [
      "False\n",
      "True\n",
      "True\n"
     ]
    }
   ],
   "source": [
    "a=10\n",
    "b=20\n",
    "print(a>b) # False\n",
    "print (a==10) # True\n",
    "print((a<b) and (b==20))  # True"
   ]
  },
  {
   "cell_type": "code",
   "execution_count": 3,
   "id": "c1208067-abea-4d8f-839e-09f5d2c36cb4",
   "metadata": {},
   "outputs": [
    {
     "name": "stdout",
     "output_type": "stream",
     "text": [
      "['apple', 'banana', 'mango', 'orange']\n",
      "banana\n"
     ]
    }
   ],
   "source": [
    "fruits=[\"apple\",\"banana\",\"mango\"]\n",
    "fruits.append(\"orange\")\n",
    "print(fruits)\n",
    "print(fruits[1])\n",
    "        "
   ]
  },
  {
   "cell_type": "code",
   "execution_count": 4,
   "id": "d6daf1b0-b92c-4f0b-b477-61674556479c",
   "metadata": {},
   "outputs": [
    {
     "name": "stdout",
     "output_type": "stream",
     "text": [
      "['red', 'green', 'blue', 'orange']\n",
      "orange\n"
     ]
    }
   ],
   "source": [
    "colours=[\"red\",\"green\",\"blue\"]\n",
    "colours.append(\"orange\")\n",
    "print(colours)\n",
    "print(colours[3])"
   ]
  },
  {
   "cell_type": "code",
   "execution_count": 6,
   "id": "a206446a-81e6-44cd-a219-f5efc3a633df",
   "metadata": {},
   "outputs": [
    {
     "name": "stdout",
     "output_type": "stream",
     "text": [
      "['apple', 'mango', 'orange']\n",
      "mango\n"
     ]
    }
   ],
   "source": [
    "fruits=[\"apple\",\"banana\",\"mango\"]\n",
    "fruits.append(\"orange\")\n",
    "fruits.remove(\"banana\")\n",
    "fruits.sort()\n",
    "print(fruits)\n",
    "print(fruits[1])"
   ]
  },
  {
   "cell_type": "code",
   "execution_count": 10,
   "id": "565737e5-8833-4749-8c1b-34a2a202d6fc",
   "metadata": {},
   "outputs": [
    {
     "name": "stdout",
     "output_type": "stream",
     "text": [
      "['tahseen', 'safiya', 'suknaya']\n",
      "suknaya\n"
     ]
    }
   ],
   "source": [
    "names=[\"tahseen\",\"safiya\",\"rehan\"]\n",
    "names.append(\"suknaya\")\n",
    "names.remove(\"rehan\")\n",
    "names.sort\n",
    "print(names)\n",
    "print(names[2])"
   ]
  },
  {
   "cell_type": "code",
   "execution_count": 18,
   "id": "92b3bbe4-8361-4273-8979-8df3815cbc0f",
   "metadata": {},
   "outputs": [
    {
     "name": "stdout",
     "output_type": "stream",
     "text": [
      "red\n"
     ]
    }
   ],
   "source": [
    "colors=(\"red\",\"blue\",\"green\")\n",
    "print(colors[0])\n",
    "#colors[1]=\"yellow\""
   ]
  },
  {
   "cell_type": "code",
   "execution_count": 19,
   "id": "619da639-90b0-4322-9d35-6a7dd483d366",
   "metadata": {},
   "outputs": [
    {
     "name": "stdout",
     "output_type": "stream",
     "text": [
      "{1, 2, 3, 4, 5}\n"
     ]
    }
   ],
   "source": [
    "numbers={1,2,3,3,4}\n",
    "numbers.add(5)\n",
    "print(numbers)"
   ]
  },
  {
   "cell_type": "code",
   "execution_count": 21,
   "id": "ea9f1db2-5de4-4bc7-b7ee-7019bc714e65",
   "metadata": {},
   "outputs": [
    {
     "name": "stdout",
     "output_type": "stream",
     "text": [
      "tahseen\n",
      "{'name': 'tahseen', 'age': '18', 'course': 'B.com(CA)'}\n"
     ]
    }
   ],
   "source": [
    "student={\n",
    "    \"name\":\"tahseen\",\n",
    "    \"age\":\"17\",\n",
    "    \"course\":\"B.com(CA)\"\n",
    "}\n",
    "print(student[\"name\"])\n",
    "student[\"age\"]=\"18\"\n",
    "print(student)"
   ]
  },
  {
   "cell_type": "code",
   "execution_count": null,
   "id": "d838ec4d-fc42-486c-bee1-22aa5b7c3148",
   "metadata": {},
   "outputs": [],
   "source": []
  },
  {
   "cell_type": "code",
   "execution_count": 27,
   "id": "eb9c5507-b53b-4212-afcf-ce53f996887d",
   "metadata": {},
   "outputs": [
    {
     "name": "stdout",
     "output_type": "stream",
     "text": [
      "dict_keys(['name', 'age', 'course', 'college'])\n",
      "dict_values(['tahseen', '17', 'B.com(CA)', 'Avinash college of commerce'])\n"
     ]
    }
   ],
   "source": [
    "student={\n",
    "    \"name\":\"tahseen\",\n",
    "    \"age\":\"17\",\n",
    "    \"course\":\"B.com(CA)\"\n",
    "}\n",
    "student[\"college\"]=\"Avinash college of commerce\"\n",
    "#add new key\n",
    "print(student.keys())\n",
    "print(student.values())"
   ]
  },
  {
   "cell_type": "code",
   "execution_count": 29,
   "id": "b5077729-3845-49bb-8620-db9aa739a90f",
   "metadata": {},
   "outputs": [
    {
     "name": "stdout",
     "output_type": "stream",
     "text": [
      "Grade:B\n"
     ]
    }
   ],
   "source": [
    "\n",
    "marks=75\n",
    "if marks>=90:\n",
    "    print(\"Grade:A\")\n",
    "elif marks>=75:\n",
    "    print(\"Grade:B\")\n",
    "elif marks>=50:\n",
    "    print(\"Grade:C\")\n",
    "else:\n",
    "    print(\"Grade:Fail\")"
   ]
  },
  {
   "cell_type": "code",
   "execution_count": 31,
   "id": "aa5cf208-1932-42cb-912b-1e81b8788946",
   "metadata": {},
   "outputs": [
    {
     "name": "stdout",
     "output_type": "stream",
     "text": [
      "Number: 1\n",
      "Number: 2\n",
      "Number: 3\n",
      "Number: 4\n",
      "Number: 5\n",
      "Number: 6\n",
      "Number: 7\n",
      "Number: 8\n",
      "Number: 9\n"
     ]
    }
   ],
   "source": [
    "for i in range(1,10):\n",
    "    print(\"Number:\", i)"
   ]
  },
  {
   "cell_type": "code",
   "execution_count": 2,
   "id": "636af763-440b-4182-b81c-7ee006f2cee2",
   "metadata": {},
   "outputs": [
    {
     "name": "stdout",
     "output_type": "stream",
     "text": [
      "count 1\n",
      "count 2\n",
      "count 3\n",
      "count 4\n",
      "count 5\n"
     ]
    }
   ],
   "source": [
    "count=1\n",
    "while count<=5:\n",
    "    print(\"count\",count)\n",
    "    count+=1\n"
   ]
  },
  {
   "cell_type": "code",
   "execution_count": 13,
   "id": "bf6cf741-64a2-4760-9737-7d378d83511b",
   "metadata": {},
   "outputs": [
    {
     "name": "stdout",
     "output_type": "stream",
     "text": [
      "1\n",
      "2\n",
      "3\n",
      "4\n"
     ]
    }
   ],
   "source": [
    "for i in range(1,10):\n",
    "    if i==5:\n",
    "      break\n",
    "    print(i)"
   ]
  },
  {
   "cell_type": "code",
   "execution_count": null,
   "id": "6f42328e-5e9d-460d-984c-a4a780d17b75",
   "metadata": {},
   "outputs": [],
   "source": []
  }
 ],
 "metadata": {
  "kernelspec": {
   "display_name": "Python [conda env:base] *",
   "language": "python",
   "name": "conda-base-py"
  },
  "language_info": {
   "codemirror_mode": {
    "name": "ipython",
    "version": 3
   },
   "file_extension": ".py",
   "mimetype": "text/x-python",
   "name": "python",
   "nbconvert_exporter": "python",
   "pygments_lexer": "ipython3",
   "version": "3.13.5"
  }
 },
 "nbformat": 4,
 "nbformat_minor": 5
}
