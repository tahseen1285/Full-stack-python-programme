{
 "cells": [
  {
   "cell_type": "code",
   "execution_count": 3,
   "id": "4566535d-5dea-4457-b3e9-9c0f6b0b4e55",
   "metadata": {},
   "outputs": [
    {
     "name": "stdout",
     "output_type": "stream",
     "text": [
      "Hello,Python Full Stack Students!\n"
     ]
    }
   ],
   "source": [
    "print(\"Hello,Python Full Stack Students!\")"
   ]
  },
  {
   "cell_type": "code",
   "execution_count": 4,
   "id": "c6c34e99-8be3-4355-9515-2965b0ec6652",
   "metadata": {},
   "outputs": [
    {
     "name": "stdout",
     "output_type": "stream",
     "text": [
      "Hello,I am Tahseen!\n"
     ]
    }
   ],
   "source": [
    "print(\"Hello,I am Tahseen!\")"
   ]
  },
  {
   "cell_type": "code",
   "execution_count": 5,
   "id": "8720e47c-dcec-40dd-a832-3d149a352329",
   "metadata": {},
   "outputs": [
    {
     "name": "stdout",
     "output_type": "stream",
     "text": [
      "How are you!\n"
     ]
    }
   ],
   "source": [
    "print(\"How are you!\")"
   ]
  },
  {
   "cell_type": "code",
   "execution_count": 6,
   "id": "d9b63a5b-7b62-4021-a50b-f3ce813f5d2d",
   "metadata": {},
   "outputs": [
    {
     "name": "stdout",
     "output_type": "stream",
     "text": [
      "name=TAHSEEN\n",
      "age=17\n",
      "gpa=8.5\n",
      "is student=True\n"
     ]
    }
   ],
   "source": [
    "print(\"name=TAHSEEN\")\n",
    "print(\"age=17\")\n",
    "print(\"gpa=8.5\")\n",
    "print(\"is student=True\")"
   ]
  },
  {
   "cell_type": "code",
   "execution_count": 7,
   "id": "aa2f6d8d-0ce0-4465-8fc8-7b008a10c927",
   "metadata": {},
   "outputs": [
    {
     "name": "stdout",
     "output_type": "stream",
     "text": [
      "name=safiya\n",
      "age=16\n",
      "gpa=8.9\n",
      "is student=True\n"
     ]
    }
   ],
   "source": [
    "print(\"name=safiya\")\n",
    "print(\"age=16\")\n",
    "print(\"gpa=8.9\")\n",
    "print(\"is student=True\")"
   ]
  },
  {
   "cell_type": "code",
   "execution_count": 11,
   "id": "2b4d0690-5835-432a-92f9-a798c3282c44",
   "metadata": {},
   "outputs": [
    {
     "name": "stdout",
     "output_type": "stream",
     "text": [
      "<class 'int'> <class 'float'> <class 'str'> <class 'bool'>\n"
     ]
    }
   ],
   "source": [
    "x=10\n",
    "y=3.14\n",
    "z=\"Python\"\n",
    "flag=False\n",
    "print(type(x),type(y),type(z),type(flag))\n"
   ]
  },
  {
   "cell_type": "code",
   "execution_count": 14,
   "id": "28a0013d-661d-4232-8feb-006d5dd39299",
   "metadata": {},
   "outputs": [
    {
     "name": "stdout",
     "output_type": "stream",
     "text": [
      "name=Tahseen\n",
      "college=Avinash college of commerce\n",
      "favourite programing language=python\n"
     ]
    }
   ],
   "source": [
    "print(\"name=Tahseen\")\n",
    "print(\"college=Avinash college of commerce\")\n",
    "print(\"favourite programing language=python\")"
   ]
  },
  {
   "cell_type": "code",
   "execution_count": 16,
   "id": "ca4e5460-6f12-48d5-af9b-0be79da96e9d",
   "metadata": {},
   "outputs": [
    {
     "name": "stdout",
     "output_type": "stream",
     "text": [
      "17\n"
     ]
    }
   ],
   "source": [
    "birth_year=2008\n",
    "current_year=2025\n",
    "print(current_year-birth_year)"
   ]
  },
  {
   "cell_type": "code",
   "execution_count": 19,
   "id": "8d4d05ec-5a40-4f62-8f7a-255bd74ce658",
   "metadata": {},
   "outputs": [
    {
     "name": "stdout",
     "output_type": "stream",
     "text": [
      "KGF 2018 8.5\n"
     ]
    }
   ],
   "source": [
    "movie_name=\"KGF\"\n",
    "release_year=2018\n",
    "rating=8.5\n",
    "print(movie_name,release_year,rating)"
   ]
  },
  {
   "cell_type": "code",
   "execution_count": 21,
   "id": "22996f64-8e5b-4336-bed2-d0c02ac9f153",
   "metadata": {},
   "outputs": [
    {
     "name": "stdout",
     "output_type": "stream",
     "text": [
      "Addition: 19\n",
      "Division: 3.75\n",
      "Floor Division: 3\n",
      "power: 50625\n"
     ]
    }
   ],
   "source": [
    "print(\"Addition:\",15+4)\n",
    "print(\"Division:\",15/4)\n",
    "print(\"Floor Division:\",15//4)\n",
    "print(\"power:\",15**4)"
   ]
  },
  {
   "cell_type": "code",
   "execution_count": 23,
   "id": "6020ac19-6b51-4361-ae63-2b2d1ac3eb8d",
   "metadata": {},
   "outputs": [
    {
     "name": "stdout",
     "output_type": "stream",
     "text": [
      "False\n",
      "True\n",
      "True\n"
     ]
    }
   ],
   "source": [
    "a=10\n",
    "b=20\n",
    "print(a>b) # False\n",
    "print (a==10) # True\n",
    "print((a<b) and (b==20))  # True"
   ]
  },
  {
   "cell_type": "code",
   "execution_count": null,
   "id": "c1208067-abea-4d8f-839e-09f5d2c36cb4",
   "metadata": {},
   "outputs": [],
   "source": [
    "s"
   ]
  }
 ],
 "metadata": {
  "kernelspec": {
   "display_name": "Python [conda env:base] *",
   "language": "python",
   "name": "conda-base-py"
  },
  "language_info": {
   "codemirror_mode": {
    "name": "ipython",
    "version": 3
   },
   "file_extension": ".py",
   "mimetype": "text/x-python",
   "name": "python",
   "nbconvert_exporter": "python",
   "pygments_lexer": "ipython3",
   "version": "3.13.5"
  }
 },
 "nbformat": 4,
 "nbformat_minor": 5
}
